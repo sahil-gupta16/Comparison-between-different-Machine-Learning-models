{
 "cells": [
  {
   "cell_type": "markdown",
   "id": "4fad6491",
   "metadata": {},
   "source": [
    "## Name : Sahil Gupta\n",
    "## Roll No : D21030"
   ]
  },
  {
   "cell_type": "markdown",
   "id": "cbfbba18",
   "metadata": {},
   "source": [
    "### Excercise\n",
    "\n",
    "1. Use the same set of predictors to fit a kNN model. (choose appropiate values of k using CV)\n",
    "2. Fit Linear Regression on the same data. Use CV to validate the model.\n",
    "3. Fit Decision Tree on the same data. Use CV to validate the model.\n",
    "4. Choose the best competing models for testing.\n",
    "5. Report the best performing model.\n",
    "\n",
    "GIVE EXPLANATIONS"
   ]
  },
  {
   "cell_type": "markdown",
   "id": "555b7a37",
   "metadata": {},
   "source": [
    "#### Objective :\n",
    "To use a set of predictors and target on different machine learning models and report the best performing model by comparing the error metrics.\n"
   ]
  },
  {
   "cell_type": "code",
   "execution_count": 1,
   "id": "a5bd0bbd",
   "metadata": {},
   "outputs": [],
   "source": [
    "#getting the required libraries\n",
    "import numpy as np\n",
    "import pandas as pd\n",
    "\n",
    "#for train-test split\n",
    "from sklearn.model_selection import train_test_split\n",
    "\n",
    "#for fitting classification tree\n",
    "from sklearn.tree import DecisionTreeClassifier\n",
    "\n",
    "#for fitting regression tree\n",
    "from sklearn.tree import DecisionTreeRegressor\n",
    "\n",
    "#to create the confusion matrix\n",
    "from sklearn.metrics import confusion_matrix\n",
    "\n",
    "#for fitting kNN regression model\n",
    "from sklearn.neighbors import KNeighborsRegressor\n",
    "\n",
    "#to get the cross validaton score\n",
    "from sklearn.model_selection import cross_val_score\n",
    "\n",
    "#for fitting linear regression model\n",
    "from sklearn import linear_model\n",
    "\n",
    "#for plotting the decision tree\n",
    "from sklearn import tree\n",
    "\n",
    "#for ploting the graph\n",
    "from matplotlib import pyplot as plt"
   ]
  },
  {
   "cell_type": "code",
   "execution_count": 2,
   "id": "4241baa5",
   "metadata": {},
   "outputs": [
    {
     "data": {
      "text/html": [
       "<div>\n",
       "<style scoped>\n",
       "    .dataframe tbody tr th:only-of-type {\n",
       "        vertical-align: middle;\n",
       "    }\n",
       "\n",
       "    .dataframe tbody tr th {\n",
       "        vertical-align: top;\n",
       "    }\n",
       "\n",
       "    .dataframe thead th {\n",
       "        text-align: right;\n",
       "    }\n",
       "</style>\n",
       "<table border=\"1\" class=\"dataframe\">\n",
       "  <thead>\n",
       "    <tr style=\"text-align: right;\">\n",
       "      <th></th>\n",
       "      <th>Car</th>\n",
       "      <th>MPG</th>\n",
       "      <th>Cylinders</th>\n",
       "      <th>Displacement</th>\n",
       "      <th>Horsepower</th>\n",
       "      <th>Weight</th>\n",
       "      <th>Acceleration</th>\n",
       "      <th>Model</th>\n",
       "      <th>Origin</th>\n",
       "    </tr>\n",
       "  </thead>\n",
       "  <tbody>\n",
       "    <tr>\n",
       "      <th>0</th>\n",
       "      <td>Chevrolet Chevelle Malibu</td>\n",
       "      <td>18.0</td>\n",
       "      <td>8</td>\n",
       "      <td>307.0</td>\n",
       "      <td>130</td>\n",
       "      <td>3504</td>\n",
       "      <td>12.0</td>\n",
       "      <td>70</td>\n",
       "      <td>US</td>\n",
       "    </tr>\n",
       "    <tr>\n",
       "      <th>1</th>\n",
       "      <td>Buick Skylark 320</td>\n",
       "      <td>15.0</td>\n",
       "      <td>8</td>\n",
       "      <td>350.0</td>\n",
       "      <td>165</td>\n",
       "      <td>3693</td>\n",
       "      <td>11.5</td>\n",
       "      <td>70</td>\n",
       "      <td>US</td>\n",
       "    </tr>\n",
       "    <tr>\n",
       "      <th>2</th>\n",
       "      <td>Plymouth Satellite</td>\n",
       "      <td>18.0</td>\n",
       "      <td>8</td>\n",
       "      <td>318.0</td>\n",
       "      <td>150</td>\n",
       "      <td>3436</td>\n",
       "      <td>11.0</td>\n",
       "      <td>70</td>\n",
       "      <td>US</td>\n",
       "    </tr>\n",
       "    <tr>\n",
       "      <th>3</th>\n",
       "      <td>AMC Rebel SST</td>\n",
       "      <td>16.0</td>\n",
       "      <td>8</td>\n",
       "      <td>304.0</td>\n",
       "      <td>150</td>\n",
       "      <td>3433</td>\n",
       "      <td>12.0</td>\n",
       "      <td>70</td>\n",
       "      <td>US</td>\n",
       "    </tr>\n",
       "    <tr>\n",
       "      <th>4</th>\n",
       "      <td>Ford Torino</td>\n",
       "      <td>17.0</td>\n",
       "      <td>8</td>\n",
       "      <td>302.0</td>\n",
       "      <td>140</td>\n",
       "      <td>3449</td>\n",
       "      <td>10.5</td>\n",
       "      <td>70</td>\n",
       "      <td>US</td>\n",
       "    </tr>\n",
       "  </tbody>\n",
       "</table>\n",
       "</div>"
      ],
      "text/plain": [
       "                         Car   MPG  Cylinders  Displacement  Horsepower  \\\n",
       "0  Chevrolet Chevelle Malibu  18.0          8         307.0         130   \n",
       "1          Buick Skylark 320  15.0          8         350.0         165   \n",
       "2         Plymouth Satellite  18.0          8         318.0         150   \n",
       "3              AMC Rebel SST  16.0          8         304.0         150   \n",
       "4                Ford Torino  17.0          8         302.0         140   \n",
       "\n",
       "   Weight  Acceleration  Model Origin  \n",
       "0    3504          12.0     70     US  \n",
       "1    3693          11.5     70     US  \n",
       "2    3436          11.0     70     US  \n",
       "3    3433          12.0     70     US  \n",
       "4    3449          10.5     70     US  "
      ]
     },
     "execution_count": 2,
     "metadata": {},
     "output_type": "execute_result"
    }
   ],
   "source": [
    "# Set the working directory \n",
    "import os\n",
    "os.chdir(r\"C:\\Users\\Lenovo\\Documents\\Codes\")\n",
    "#Read the cars.csv data\n",
    "cars = pd.read_csv(\"cars.csv\")\n",
    "cars.head()\n"
   ]
  },
  {
   "cell_type": "code",
   "execution_count": 3,
   "id": "66995264",
   "metadata": {},
   "outputs": [],
   "source": [
    "X = cars[['Cylinders', 'Weight', 'Horsepower']]             #defining the set of predictors and the target \n",
    "y = cars['MPG']"
   ]
  },
  {
   "cell_type": "markdown",
   "id": "538a5311",
   "metadata": {},
   "source": [
    "In this, we have used the Cylinders, Weight, Horsepower as the set of predictors to predict the value of MPG.\n",
    "We will use different models on this set of predictors and basedd on the error metrics we will find the best model for the predictioin of target i.e. MPG."
   ]
  },
  {
   "cell_type": "code",
   "execution_count": 4,
   "id": "51356a9e",
   "metadata": {},
   "outputs": [],
   "source": [
    "## Train - test split in the ratio 70 : 30 "
   ]
  },
  {
   "cell_type": "code",
   "execution_count": 5,
   "id": "539d10a1",
   "metadata": {},
   "outputs": [],
   "source": [
    "X_train, X_test, y_train, y_test = train_test_split(X, y, test_size = 0.3, random_state = 100)"
   ]
  },
  {
   "cell_type": "markdown",
   "id": "db37c74f",
   "metadata": {},
   "source": [
    "We perform a train-test split in the ratio 70 : 30 to split the data for training and have some data available for testing to predict the performance of our model and calculate the error metrics."
   ]
  },
  {
   "cell_type": "markdown",
   "id": "e76705bb",
   "metadata": {},
   "source": [
    "## 1. KNN Algorithm"
   ]
  },
  {
   "cell_type": "markdown",
   "id": "aef34fd7",
   "metadata": {},
   "source": [
    "Here we use KNN algorithm model to find the value of target variable based on the learning algorithm instantiated on the \n",
    "training data."
   ]
  },
  {
   "cell_type": "code",
   "execution_count": 6,
   "id": "9d131d0a",
   "metadata": {},
   "outputs": [],
   "source": [
    "#using Cross Validation to choose optimal k\n",
    "neighbors = list(range(1,120))\n",
    "\n",
    "#empty list that will hold cv scores\n",
    "cv_scores_knn = []\n",
    "\n",
    "#perform 10 fold cross validation\n",
    "for k in neighbors :\n",
    "    knn =  KNeighborsRegressor(n_neighbors = k)\n",
    "    scores_knn = cross_val_score(knn, X_train, y_train, cv = 10, scoring='neg_mean_squared_error')    \n",
    "    cv_scores_knn.append(scores_knn.mean())"
   ]
  },
  {
   "cell_type": "markdown",
   "id": "c49815e9",
   "metadata": {},
   "source": [
    "Above we perform a 10 fold cross validatoin on the training data with values of k i.e. number of nearest neighbors ranging\n",
    "from 1 to 120 to get the optimal(best) value of nearest neighbors for which the training model gives minimum error.\n",
    "The error metric used here is the Mean Squared error.\n",
    "The error metric gives us the negative values of the means of the cross validation score for each iteration.\n",
    "Therefore we take the absolute value before finding out the best fit value of k.\n",
    "The value of k for which the cross validation error is minimum is the best fit value."
   ]
  },
  {
   "cell_type": "code",
   "execution_count": 7,
   "id": "76a60976",
   "metadata": {},
   "outputs": [
    {
     "data": {
      "text/plain": [
       "array([48.89641626, 40.91213085, 35.52168555, 33.35274484, 32.04907798,\n",
       "       31.90612705, 31.41478697, 31.49119497, 31.6476336 , 31.77474825,\n",
       "       31.91611773, 32.38195317, 31.95007579, 32.00087575, 31.91025078,\n",
       "       31.64880587, 31.5162284 , 31.20029215, 31.2158444 , 31.17454003,\n",
       "       31.01306442, 31.15922028, 30.97781112, 31.30452068, 31.12244071,\n",
       "       30.98657091, 31.02902978, 30.9232811 , 30.89428969, 30.83189158,\n",
       "       30.88278457, 30.89307918, 30.85826608, 30.82306906, 30.59707272,\n",
       "       30.54576623, 30.426177  , 30.23424133, 30.35256396, 30.30542254,\n",
       "       30.28582939, 30.23467158, 30.07741423, 30.08626422, 30.07342926,\n",
       "       30.057687  , 30.07053641, 30.09862218, 30.07511539, 30.04591415,\n",
       "       30.04090697, 30.05274734, 29.96458432, 30.11114651, 30.13088774,\n",
       "       30.25355214, 30.18838809, 30.12554753, 30.05621883, 30.02076263,\n",
       "       29.98792213, 30.02583454, 29.93299384, 30.00063923, 30.02288337,\n",
       "       30.0767107 , 30.1006871 , 30.08928062, 30.0476046 , 30.14894188,\n",
       "       30.18976208, 30.23021502, 30.19562258, 30.17791592, 30.24037079,\n",
       "       30.3212831 , 30.41102454, 30.41035456, 30.4337804 , 30.49693375,\n",
       "       30.4473011 , 30.42624012, 30.48930306, 30.54687288, 30.60394324,\n",
       "       30.70148463, 30.77584489, 30.90490209, 30.94809944, 31.1060444 ,\n",
       "       31.14346914, 31.25870457, 31.35165855, 31.41533569, 31.37460192,\n",
       "       31.40133314, 31.42386542, 31.44642869, 31.54572527, 31.60538059,\n",
       "       31.74472385, 31.79560756, 31.97808508, 31.97025118, 32.08233474,\n",
       "       32.17411768, 32.35233675, 32.40889535, 32.48774347, 32.56983173,\n",
       "       32.71498086, 32.81635533, 32.94416799, 33.04707269, 33.24937686,\n",
       "       33.31586345, 33.35913332, 33.47390834, 33.58902418])"
      ]
     },
     "execution_count": 7,
     "metadata": {},
     "output_type": "execute_result"
    }
   ],
   "source": [
    "#cv_scores_knn\n",
    "np.abs(cv_scores_knn)      #taking absolute values to find the minimun cross validation score"
   ]
  },
  {
   "cell_type": "markdown",
   "id": "40f6da77",
   "metadata": {},
   "source": [
    "The plot below shows how the cross validation score varies as we change the value of k.\n",
    "The value of k for which the cross validatioin score is minimum we select that value  for our best fit model."
   ]
  },
  {
   "cell_type": "code",
   "execution_count": 8,
   "id": "3294aa81",
   "metadata": {},
   "outputs": [
    {
     "data": {
      "image/png": "[encoded data removed]",
      "text/plain": [
       "<Figure size 432x288 with 1 Axes>"
      ]
     },
     "metadata": {
      "needs_background": "light"
     },
     "output_type": "display_data"
    }
   ],
   "source": [
    "plt.plot (neighbors, np.abs(cv_scores_knn))       #plot of k (neighbors) vs the CV score\n",
    "plt.xlabel('Number of neighbors of K')\n",
    "plt.ylabel('CV Scores')\n",
    "plt.show()"
   ]
  },
  {
   "cell_type": "code",
   "execution_count": 9,
   "id": "b855292d",
   "metadata": {},
   "outputs": [
    {
     "data": {
      "text/plain": [
       "29.932993839261666"
      ]
     },
     "execution_count": 9,
     "metadata": {},
     "output_type": "execute_result"
    }
   ],
   "source": [
    "np.min(np.abs(cv_scores_knn))     #to find the minimum value of CV score"
   ]
  },
  {
   "cell_type": "code",
   "execution_count": 10,
   "id": "ee171d56",
   "metadata": {},
   "outputs": [
    {
     "data": {
      "text/plain": [
       "(array([62], dtype=int64),)"
      ]
     },
     "execution_count": 10,
     "metadata": {},
     "output_type": "execute_result"
    }
   ],
   "source": [
    "optimal = np.where(np.abs(cv_scores_knn) == np.min(np.abs(cv_scores_knn)))   #to get the index of the optimal value of k\n",
    "optimal"
   ]
  },
  {
   "cell_type": "code",
   "execution_count": 11,
   "id": "499d1e75",
   "metadata": {},
   "outputs": [
    {
     "data": {
      "text/plain": [
       "tuple"
      ]
     },
     "execution_count": 11,
     "metadata": {},
     "output_type": "execute_result"
    }
   ],
   "source": [
    "type(optimal)"
   ]
  },
  {
   "cell_type": "code",
   "execution_count": 12,
   "id": "05ba1422",
   "metadata": {},
   "outputs": [
    {
     "data": {
      "text/plain": [
       "numpy.ndarray"
      ]
     },
     "execution_count": 12,
     "metadata": {},
     "output_type": "execute_result"
    }
   ],
   "source": [
    "type(optimal[0])"
   ]
  },
  {
   "cell_type": "code",
   "execution_count": 13,
   "id": "32b98deb",
   "metadata": {},
   "outputs": [
    {
     "data": {
      "text/plain": [
       "numpy.int64"
      ]
     },
     "execution_count": 13,
     "metadata": {},
     "output_type": "execute_result"
    }
   ],
   "source": [
    "type(optimal[0][0])"
   ]
  },
  {
   "cell_type": "code",
   "execution_count": 14,
   "id": "5302da10",
   "metadata": {},
   "outputs": [
    {
     "data": {
      "text/plain": [
       "62"
      ]
     },
     "execution_count": 14,
     "metadata": {},
     "output_type": "execute_result"
    }
   ],
   "source": [
    "optimal[0][0]"
   ]
  },
  {
   "cell_type": "markdown",
   "id": "6f371573",
   "metadata": {},
   "source": [
    "Above we got the optinmal value of k i.e. the value of k(neighbors) for which the cross validation score is the minimum.\n",
    "Now we instantiate a learning model for k = optimal value and also fit the training data into it to predict the value of\n",
    "target variable and calculate the error metrics."
   ]
  },
  {
   "cell_type": "code",
   "execution_count": 15,
   "id": "92989eb8",
   "metadata": {},
   "outputs": [
    {
     "data": {
      "text/plain": [
       "KNeighborsRegressor(n_neighbors=63)"
      ]
     },
     "execution_count": 15,
     "metadata": {},
     "output_type": "execute_result"
    }
   ],
   "source": [
    "#instantiate an learning model (k = optimal value from the graph/array)\n",
    "knn = KNeighborsRegressor(n_neighbors = (optimal[0][0] + 1)) #KNN\n",
    "\n",
    "#fitting the model\n",
    "knn.fit(X_train, y_train)"
   ]
  },
  {
   "cell_type": "markdown",
   "id": "036c7400",
   "metadata": {},
   "source": [
    "Calculating the cross validation score for the fitted model.\n",
    "We can also see that the cross validation score for the fitted model is equal to the minimum cross validation score of the\n",
    "cross validation score array."
   ]
  },
  {
   "cell_type": "code",
   "execution_count": 16,
   "id": "b3721166",
   "metadata": {},
   "outputs": [
    {
     "data": {
      "text/plain": [
       "29.932993839261666"
      ]
     },
     "execution_count": 16,
     "metadata": {},
     "output_type": "execute_result"
    }
   ],
   "source": [
    "scores_fit_knn = cross_val_score(knn, X_train, y_train, cv = 10, scoring='neg_mean_squared_error')\n",
    "np.abs(scores_fit_knn.mean())"
   ]
  },
  {
   "cell_type": "code",
   "execution_count": 17,
   "id": "704fae9f",
   "metadata": {},
   "outputs": [
    {
     "data": {
      "text/plain": [
       "True"
      ]
     },
     "execution_count": 17,
     "metadata": {},
     "output_type": "execute_result"
    }
   ],
   "source": [
    "np.abs(scores_fit_knn.mean()) == np.min(np.abs(cv_scores_knn))  #comparing the 2 cross validation scores"
   ]
  },
  {
   "cell_type": "code",
   "execution_count": 18,
   "id": "f87df50f",
   "metadata": {},
   "outputs": [
    {
     "data": {
      "text/plain": [
       "array([18.10952381, 30.16666667, 27.38253968, 24.68571429, 18.10952381,\n",
       "       24.61111111, 16.98571429, 25.61904762, 17.63650794, 24.44603175,\n",
       "       32.14603175, 13.45396825, 13.45396825, 32.43968254, 24.66190476,\n",
       "       25.55873016, 25.76190476, 22.61111111, 21.05238095, 24.45714286,\n",
       "       24.44603175, 24.52063492, 29.73650794, 29.73650794, 17.01746032,\n",
       "       13.77460317, 23.03174603, 17.56507937, 25.39206349, 30.71428571,\n",
       "       22.38095238, 20.01428571, 23.03174603, 32.32857143, 15.33650794,\n",
       "       32.32857143, 19.23492063, 25.92698413, 18.9968254 , 13.77460317,\n",
       "       20.41587302, 30.83174603, 15.33650794, 20.13809524, 30.85079365,\n",
       "       28.57142857, 15.32857143, 32.13650794, 27.80793651, 19.52063492,\n",
       "       30.1952381 , 30.85555556, 17.63650794, 13.45396825, 15.36190476,\n",
       "       15.32857143, 16.07777778, 31.12698413, 20.13492063, 13.45396825,\n",
       "       23.57142857, 20.88253968, 32.43968254, 18.10952381, 16.7984127 ,\n",
       "       29.42698413, 32.32857143, 32.43968254, 32.43968254, 30.52857143,\n",
       "       32.13650794, 15.08571429, 14.30793651, 19.10793651, 29.24603175,\n",
       "       32.18412698, 13.45396825, 22.0952381 , 13.45396825, 30.85079365,\n",
       "       20.36666667, 20.3       , 30.85079365, 13.80634921, 26.68095238,\n",
       "       30.91428571, 13.45396825, 13.45396825, 17.49365079, 13.80634921,\n",
       "       13.45396825, 26.05396825, 13.80634921, 23.57142857, 27.1015873 ,\n",
       "       31.38095238, 23.74603175, 15.33650794, 22.80793651, 27.57936508,\n",
       "       32.32857143, 30.92063492, 13.9015873 , 30.83174603, 13.45396825,\n",
       "       13.45396825, 15.26507937, 25.76190476, 22.96349206, 31.67619048,\n",
       "       18.1015873 , 27.80793651, 20.29206349, 20.07460317, 17.48571429,\n",
       "       26.73968254, 32.43968254, 23.28571429, 26.73174603, 29.49047619,\n",
       "       14.30793651, 17.82698413])"
      ]
     },
     "execution_count": 18,
     "metadata": {},
     "output_type": "execute_result"
    }
   ],
   "source": [
    "y_pred = knn.predict(X_test)     #predicting the target varible using the model.\n",
    "y_pred "
   ]
  },
  {
   "cell_type": "markdown",
   "id": "9f1ad3e6",
   "metadata": {},
   "source": [
    "After prediction we compare the predicted results with the actual results and compute the following error metrics :\n",
    "1. Root Mean Square error\n",
    "2. Mean Square error\n",
    "3. Mean Absolute error"
   ]
  },
  {
   "cell_type": "code",
   "execution_count": 19,
   "id": "d5977ca0",
   "metadata": {},
   "outputs": [
    {
     "data": {
      "text/plain": [
       "4.001215760331699"
      ]
     },
     "execution_count": 19,
     "metadata": {},
     "output_type": "execute_result"
    }
   ],
   "source": [
    "#RMSE_knn\n",
    "RMSE_knn = np.sqrt(np.mean((np.array(y_test)-y_pred)**2))\n",
    "RMSE_knn"
   ]
  },
  {
   "cell_type": "code",
   "execution_count": 20,
   "id": "487578bb",
   "metadata": {},
   "outputs": [
    {
     "data": {
      "text/plain": [
       "16.009727560726777"
      ]
     },
     "execution_count": 20,
     "metadata": {},
     "output_type": "execute_result"
    }
   ],
   "source": [
    "#MSE_knn\n",
    "MSE_knn = np.mean((np.array(y_test)-y_pred)**2)\n",
    "MSE_knn"
   ]
  },
  {
   "cell_type": "code",
   "execution_count": 21,
   "id": "cfab3fa3",
   "metadata": {},
   "outputs": [
    {
     "data": {
      "text/plain": [
       "2.9165755919854273"
      ]
     },
     "execution_count": 21,
     "metadata": {},
     "output_type": "execute_result"
    }
   ],
   "source": [
    "#MAE_knn\n",
    "MAE_knn = np.mean(np.abs((np.array(y_test)-y_pred)))\n",
    "MAE_knn"
   ]
  },
  {
   "cell_type": "markdown",
   "id": "0f12357b",
   "metadata": {},
   "source": [
    "These error metrics can be used to compare and find the best fit model for the given set of predictors and target."
   ]
  },
  {
   "cell_type": "code",
   "execution_count": null,
   "id": "a56fe78a",
   "metadata": {},
   "outputs": [],
   "source": []
  },
  {
   "cell_type": "markdown",
   "id": "24f58e63",
   "metadata": {},
   "source": [
    "## 2. Linear Regression"
   ]
  },
  {
   "cell_type": "markdown",
   "id": "c7aa737b",
   "metadata": {},
   "source": [
    "Here we use Linear Regression model to find the value of target variable based on the learning algorithm instantiated on the training data."
   ]
  },
  {
   "cell_type": "code",
   "execution_count": 22,
   "id": "3c6d16d4",
   "metadata": {},
   "outputs": [],
   "source": [
    "regr = linear_model.LinearRegression()       #instantiating a Linear Regression model"
   ]
  },
  {
   "cell_type": "code",
   "execution_count": 23,
   "id": "e61762f0",
   "metadata": {},
   "outputs": [],
   "source": [
    "#perform 10 fold cross validation to get the cross validation scores"
   ]
  },
  {
   "cell_type": "code",
   "execution_count": 24,
   "id": "9c20e719",
   "metadata": {},
   "outputs": [
    {
     "data": {
      "text/plain": [
       "array([-67.88697032, -15.79886501, -22.64162218, -22.71931563,\n",
       "       -19.59252464, -24.08258109, -43.01242385, -40.16815979,\n",
       "       -20.94553981, -27.23799595])"
      ]
     },
     "execution_count": 24,
     "metadata": {},
     "output_type": "execute_result"
    }
   ],
   "source": [
    "scores_regr = cross_val_score(regr, X_train, y_train, cv = 10, scoring='neg_mean_squared_error')\n",
    "scores_regr"
   ]
  },
  {
   "cell_type": "markdown",
   "id": "f900ace4",
   "metadata": {},
   "source": [
    "The scoring criteria gives us the negative values of the cross validation score.\n",
    "Therefore we take the absolute values."
   ]
  },
  {
   "cell_type": "code",
   "execution_count": 25,
   "id": "7ea47b45",
   "metadata": {},
   "outputs": [
    {
     "data": {
      "text/plain": [
       "30.408599827050505"
      ]
     },
     "execution_count": 25,
     "metadata": {},
     "output_type": "execute_result"
    }
   ],
   "source": [
    "cv_score_regr = np.abs(np.mean(scores_regr))       #taking absolute value of the mean of the cross validation scores\n",
    "cv_score_regr                                      "
   ]
  },
  {
   "cell_type": "code",
   "execution_count": 26,
   "id": "a0e8c900",
   "metadata": {},
   "outputs": [
    {
     "data": {
      "text/plain": [
       "LinearRegression()"
      ]
     },
     "execution_count": 26,
     "metadata": {},
     "output_type": "execute_result"
    }
   ],
   "source": [
    "regr.fit (X_train, y_train)           #fitting the data into the model"
   ]
  },
  {
   "cell_type": "code",
   "execution_count": 27,
   "id": "ae31a8e5",
   "metadata": {},
   "outputs": [
    {
     "name": "stdout",
     "output_type": "stream",
     "text": [
      "Intercept b0 :  45.96033953452148\n",
      "Coefficients :  [-0.27710431 -0.00536833 -0.05272208]\n"
     ]
    }
   ],
   "source": [
    "print('Intercept b0 : ', regr.intercept_)\n",
    "print('Coefficients : ', regr.coef_)"
   ]
  },
  {
   "cell_type": "code",
   "execution_count": 28,
   "id": "45331579",
   "metadata": {},
   "outputs": [
    {
     "data": {
      "text/plain": [
       "array([20.37535687, 29.61946209, 27.35522323, 25.730541  , 22.07760712,\n",
       "       25.38103729, 17.80040685, 25.92846102, 20.20757818, 25.50314854,\n",
       "       30.58632403,  9.72137596, 11.40335031, 31.70926675, 24.77272942,\n",
       "       26.22787342, 27.28615997, 22.8745152 , 28.55903334, 24.45006737,\n",
       "       24.58003155, 25.28536855, 28.40012557, 28.66373596, 19.53845911,\n",
       "       12.6161943 , 23.55067212, 19.78484031, 25.93646012, 29.31290504,\n",
       "       24.27035457, 20.85089006, 28.86375791, 30.71997024, 15.64489504,\n",
       "       30.76291689, 21.93193709, 26.38547755, 20.61693183,  9.26000879,\n",
       "       23.33555645, 30.07152621, 18.47440509, 22.14803078, 29.7536704 ,\n",
       "       27.50677045, 15.55900172, 30.66340317, 27.09353534, 21.4066388 ,\n",
       "       29.35104546, 28.61678136, 21.56500446,  9.14783591, 14.00474314,\n",
       "       18.72784092, 15.21911047, 30.23393658, 19.93011148, 11.87095734,\n",
       "       24.08063046, 23.23107354, 32.24586381, 20.6121256 , 18.93071335,\n",
       "       27.94766229, 30.85129481, 32.42149543, 32.24033252, 28.98295216,\n",
       "       30.61068109, 16.21674878, 14.49375026, 20.46068809, 27.61426358,\n",
       "       30.88310566, 10.00060248, 23.76502305,  9.00963615, 29.49006001,\n",
       "       22.99142107, 23.32690523, 28.98170148, 12.10010933, 25.38593353,\n",
       "       30.09780577, 10.55290538,  9.30264603, 21.21506514, 13.10222796,\n",
       "        6.72055136, 27.25146538, 11.59916811, 23.95206314, 27.06188744,\n",
       "       30.51998154, 24.07181629, 16.31169246, 21.71655197, 27.61979487,\n",
       "       30.69120608, 30.12272494, 13.34188042, 29.01708465,  8.77092844,\n",
       "       10.94031333, 16.27523834, 26.19414008, 23.45197346, 30.44674738,\n",
       "       17.40570808, 27.10964033, 15.31436358, 23.29444227, 15.6533833 ,\n",
       "       27.05611996, 31.90693381, 24.62121867, 27.36516161, 29.1094705 ,\n",
       "       14.89020857, 20.19283357])"
      ]
     },
     "execution_count": 28,
     "metadata": {},
     "output_type": "execute_result"
    }
   ],
   "source": [
    "y_pred1 = regr.predict(X_test)          #predicting the target varible using the model.\n",
    "y_pred1"
   ]
  },
  {
   "cell_type": "markdown",
   "id": "14a5d565",
   "metadata": {},
   "source": [
    "Computing the error metrics from the actual  and the predicted data."
   ]
  },
  {
   "cell_type": "code",
   "execution_count": 29,
   "id": "7ff224c2",
   "metadata": {},
   "outputs": [
    {
     "data": {
      "text/plain": [
       "4.137032451968018"
      ]
     },
     "execution_count": 29,
     "metadata": {},
     "output_type": "execute_result"
    }
   ],
   "source": [
    "#RMSE_regr\n",
    "RMSE_regr = np.sqrt(np.mean((np.array(y_test)-y_pred1)**2))\n",
    "RMSE_regr"
   ]
  },
  {
   "cell_type": "code",
   "execution_count": 30,
   "id": "fc213276",
   "metadata": {},
   "outputs": [
    {
     "data": {
      "text/plain": [
       "17.11503750863651"
      ]
     },
     "execution_count": 30,
     "metadata": {},
     "output_type": "execute_result"
    }
   ],
   "source": [
    "#MSE_regr\n",
    "MSE_regr = np.mean((np.array(y_test)-y_pred1)**2)\n",
    "MSE_regr"
   ]
  },
  {
   "cell_type": "code",
   "execution_count": 31,
   "id": "1bf263b6",
   "metadata": {},
   "outputs": [
    {
     "data": {
      "text/plain": [
       "3.1810011349672362"
      ]
     },
     "execution_count": 31,
     "metadata": {},
     "output_type": "execute_result"
    }
   ],
   "source": [
    "#MAE_regr\n",
    "MAE_regr = np.mean(np.abs((np.array(y_test)-y_pred1)))\n",
    "MAE_regr"
   ]
  },
  {
   "cell_type": "code",
   "execution_count": null,
   "id": "d109fe3e",
   "metadata": {},
   "outputs": [],
   "source": []
  },
  {
   "cell_type": "markdown",
   "id": "33509560",
   "metadata": {},
   "source": [
    "## 3. Decision Tree"
   ]
  },
  {
   "cell_type": "markdown",
   "id": "09798cef",
   "metadata": {},
   "source": [
    "Here we use Decision Tree model to find the value of target variable based on the learning algorithm instantiated on the training data."
   ]
  },
  {
   "cell_type": "code",
   "execution_count": 32,
   "id": "9267144e",
   "metadata": {},
   "outputs": [],
   "source": [
    "#using Cross Validation to choose optimal depth\n",
    "depth = list(range(1,10))\n",
    "\n",
    "#empty list that will hold cv scores\n",
    "cv_scores_dt = []\n",
    "\n",
    "#perform 10 fold cross validation\n",
    "for i in depth :\n",
    "    model = DecisionTreeRegressor(max_depth = i, min_samples_leaf = 5)\n",
    "    scores_dt = cross_val_score(model, X_train, y_train, cv = 10, scoring='neg_mean_squared_error')\n",
    "    cv_scores_dt.append(scores_dt.mean())"
   ]
  },
  {
   "cell_type": "markdown",
   "id": "2dba687a",
   "metadata": {},
   "source": [
    "In this we use a 10 fold cross validation to select the optimal value of the depth of the tree.\n",
    "We take the depth which corresponds to the minimum cross validation score.\n",
    "We take the absolute values as the error metric gives us negative values.\n"
   ]
  },
  {
   "cell_type": "code",
   "execution_count": 33,
   "id": "15b8f3f8",
   "metadata": {},
   "outputs": [
    {
     "data": {
      "text/plain": [
       "array([42.76616147, 34.67011205, 31.54287916, 31.14699706, 33.84662888,\n",
       "       35.1870814 , 34.89935551, 35.05419885, 35.09119036])"
      ]
     },
     "execution_count": 33,
     "metadata": {},
     "output_type": "execute_result"
    }
   ],
   "source": [
    "#cv_scores_dt\n",
    "np.abs(cv_scores_dt)       #taking absolute value of the CV scores"
   ]
  },
  {
   "cell_type": "markdown",
   "id": "058e6a3a",
   "metadata": {},
   "source": [
    "The plot below shows how the cross validation score varies as we change the depth of tree. The value of depth for which the cross validatioin score is minimum we select that value for our best fit model."
   ]
  },
  {
   "cell_type": "code",
   "execution_count": 34,
   "id": "fd2fb878",
   "metadata": {},
   "outputs": [
    {
     "data": {
      "image/png": "[encoded data removed]",
      "text/plain": [
       "<Figure size 432x288 with 1 Axes>"
      ]
     },
     "metadata": {
      "needs_background": "light"
     },
     "output_type": "display_data"
    }
   ],
   "source": [
    "plt.plot (depth, np.abs(cv_scores_dt))                 #plot of depth vs the CV score\n",
    "plt.xlabel('Depth of the tree')\n",
    "plt.ylabel('CV Scores')\n",
    "plt.show()"
   ]
  },
  {
   "cell_type": "code",
   "execution_count": 35,
   "id": "8e9959a1",
   "metadata": {},
   "outputs": [
    {
     "data": {
      "text/plain": [
       "31.146997061925084"
      ]
     },
     "execution_count": 35,
     "metadata": {},
     "output_type": "execute_result"
    }
   ],
   "source": [
    "np.min(np.abs(cv_scores_dt))           #min value of cross validation score from the array of CV score"
   ]
  },
  {
   "cell_type": "code",
   "execution_count": 36,
   "id": "1b8c0ffa",
   "metadata": {},
   "outputs": [
    {
     "data": {
      "text/plain": [
       "(array([3], dtype=int64),)"
      ]
     },
     "execution_count": 36,
     "metadata": {},
     "output_type": "execute_result"
    }
   ],
   "source": [
    "optimal = np.where(np.abs(cv_scores_dt) == np.min(np.abs(cv_scores_dt)))          #finding the index of the optimal value\n",
    "optimal"
   ]
  },
  {
   "cell_type": "code",
   "execution_count": 37,
   "id": "7193c576",
   "metadata": {},
   "outputs": [
    {
     "data": {
      "text/plain": [
       "3"
      ]
     },
     "execution_count": 37,
     "metadata": {},
     "output_type": "execute_result"
    }
   ],
   "source": [
    "optimal[0][0]"
   ]
  },
  {
   "cell_type": "code",
   "execution_count": 38,
   "id": "e9369f5a",
   "metadata": {},
   "outputs": [
    {
     "data": {
      "text/plain": [
       "DecisionTreeRegressor(max_depth=4, min_samples_leaf=5)"
      ]
     },
     "execution_count": 38,
     "metadata": {},
     "output_type": "execute_result"
    }
   ],
   "source": [
    "#instantiate an learning model (max_depth = optimal value from the graph/array)\n",
    "model = DecisionTreeRegressor(max_depth = (optimal[0][0] + 1), min_samples_leaf = 5)\n",
    "\n",
    "#fitting the model\n",
    "model.fit(X_train, y_train)"
   ]
  },
  {
   "cell_type": "code",
   "execution_count": 39,
   "id": "db203982",
   "metadata": {},
   "outputs": [
    {
     "data": {
      "text/plain": [
       "31.146997061925084"
      ]
     },
     "execution_count": 39,
     "metadata": {},
     "output_type": "execute_result"
    }
   ],
   "source": [
    "scores_fit_dt = cross_val_score(model, X_train, y_train, cv = 10, scoring='neg_mean_squared_error')\n",
    "np.abs(scores_fit_dt.mean())"
   ]
  },
  {
   "cell_type": "code",
   "execution_count": 40,
   "id": "4562d16b",
   "metadata": {},
   "outputs": [
    {
     "data": {
      "text/plain": [
       "True"
      ]
     },
     "execution_count": 40,
     "metadata": {},
     "output_type": "execute_result"
    }
   ],
   "source": [
    "np.min(np.abs(cv_scores_dt)) == np.abs(scores_fit_dt.mean())        #comparing the 2 cross validation scores"
   ]
  },
  {
   "cell_type": "code",
   "execution_count": 41,
   "id": "939733e9",
   "metadata": {},
   "outputs": [
    {
     "data": {
      "text/plain": [
       "array([18.4325    , 33.36981132, 23.82      , 26.34814815, 23.04      ,\n",
       "       26.34814815, 18.4325    , 26.34814815, 18.4325    , 26.34814815,\n",
       "       33.36981132, 12.94761905, 12.94761905, 33.36981132, 26.34814815,\n",
       "       26.34814815, 26.13333333, 20.73181818, 28.        , 26.34814815,\n",
       "       26.34814815, 26.34814815, 23.82      , 30.29375   , 18.4325    ,\n",
       "       14.69      , 20.73181818, 18.4325    , 26.34814815, 33.36981132,\n",
       "       20.73181818, 18.4325    , 23.04      , 33.36981132, 14.69      ,\n",
       "       33.36981132, 18.4325    , 26.34814815, 18.4325    , 12.94761905,\n",
       "       23.04      , 33.36981132, 18.4325    , 18.4325    , 33.36981132,\n",
       "       23.82      , 14.69      , 33.36981132, 23.82      , 18.4325    ,\n",
       "       33.36981132, 28.91111111, 28.        , 12.94761905,  9.51666667,\n",
       "       18.4325    ,  9.51666667, 33.36981132, 18.4325    , 14.69      ,\n",
       "       20.73181818, 18.4325    , 29.32857143, 18.4325    , 18.4325    ,\n",
       "       23.82      , 33.36981132, 33.36981132, 33.36981132, 33.36981132,\n",
       "       33.36981132, 18.4325    , 14.69      , 18.4325    , 23.82      ,\n",
       "       33.36981132, 12.94761905, 23.04      , 14.69      , 33.36981132,\n",
       "       18.4325    , 23.04      , 28.91111111, 12.94761905, 26.34814815,\n",
       "       33.36981132, 12.94761905, 12.94761905, 23.04      , 12.94761905,\n",
       "       12.94761905, 26.13333333, 12.94761905, 20.73181818, 26.34814815,\n",
       "       33.36981132, 20.73181818, 14.69      , 16.57777778, 30.29375   ,\n",
       "       33.36981132, 33.36981132, 14.69      , 28.91111111, 12.94761905,\n",
       "       14.69      , 16.57777778, 26.34814815, 20.73181818, 33.36981132,\n",
       "       14.69      , 23.82      ,  9.51666667, 28.        ,  9.51666667,\n",
       "       26.13333333, 33.36981132, 20.73181818, 26.13333333, 30.29375   ,\n",
       "       16.57777778, 18.4325    ])"
      ]
     },
     "execution_count": 41,
     "metadata": {},
     "output_type": "execute_result"
    }
   ],
   "source": [
    "y_pred2 = model.predict(X_test)              #predicting the target varible using the model.\n",
    "y_pred2"
   ]
  },
  {
   "cell_type": "markdown",
   "id": "35353d21",
   "metadata": {},
   "source": [
    "Computing the error metrics from the actual  and the predicted data."
   ]
  },
  {
   "cell_type": "code",
   "execution_count": 42,
   "id": "81f6dcf3",
   "metadata": {},
   "outputs": [
    {
     "data": {
      "text/plain": [
       "3.9102539550483186"
      ]
     },
     "execution_count": 42,
     "metadata": {},
     "output_type": "execute_result"
    }
   ],
   "source": [
    "#RMSE_dt\n",
    "RMSE_dt = np.sqrt(np.mean((np.array(y_test)-y_pred2)**2))\n",
    "RMSE_dt"
   ]
  },
  {
   "cell_type": "code",
   "execution_count": 43,
   "id": "82f2645d",
   "metadata": {},
   "outputs": [
    {
     "data": {
      "text/plain": [
       "15.290085992971019"
      ]
     },
     "execution_count": 43,
     "metadata": {},
     "output_type": "execute_result"
    }
   ],
   "source": [
    "#MSE_dt\n",
    "MSE_dt = np.mean((np.array(y_test)-y_pred2)**2)\n",
    "MSE_dt"
   ]
  },
  {
   "cell_type": "code",
   "execution_count": 44,
   "id": "cde21bd3",
   "metadata": {},
   "outputs": [
    {
     "data": {
      "text/plain": [
       "2.7848047284779813"
      ]
     },
     "execution_count": 44,
     "metadata": {},
     "output_type": "execute_result"
    }
   ],
   "source": [
    "#MAE_dt\n",
    "MAE_dt = np.mean(np.abs((np.array(y_test)-y_pred2)))\n",
    "MAE_dt"
   ]
  },
  {
   "cell_type": "code",
   "execution_count": 45,
   "id": "a7850836",
   "metadata": {},
   "outputs": [],
   "source": [
    "############### Plotting a Decision Tree with depth = 4 #####################"
   ]
  },
  {
   "cell_type": "code",
   "execution_count": 46,
   "id": "399749a1",
   "metadata": {},
   "outputs": [
    {
     "data": {
      "text/plain": [
       "Index(['Cylinders', 'Weight', 'Horsepower'], dtype='object')"
      ]
     },
     "execution_count": 46,
     "metadata": {},
     "output_type": "execute_result"
    }
   ],
   "source": [
    "feature_X = cars.columns[[2,5,4]]        #defining the predictors as the features\n",
    "feature_X"
   ]
  },
  {
   "cell_type": "code",
   "execution_count": 47,
   "id": "abaf98cb",
   "metadata": {},
   "outputs": [
    {
     "data": {
      "text/plain": [
       "DecisionTreeRegressor(max_depth=4, min_samples_leaf=5)"
      ]
     },
     "execution_count": 47,
     "metadata": {},
     "output_type": "execute_result"
    }
   ],
   "source": [
    "#instantiate an learning model with max_depth = 4\n",
    "model = DecisionTreeRegressor(max_depth = 4, min_samples_leaf = 5)\n",
    "\n",
    "#fitting the model\n",
    "model.fit(X_train, y_train)"
   ]
  },
  {
   "cell_type": "code",
   "execution_count": 48,
   "id": "b0078e7b",
   "metadata": {},
   "outputs": [
    {
     "data": {
      "image/png": "[encoded data removed]",
      "text/plain": [
       "<Figure size 1800x1440 with 1 Axes>"
      ]
     },
     "metadata": {
      "needs_background": "light"
     },
     "output_type": "display_data"
    }
   ],
   "source": [
    "from matplotlib import pyplot as plt                #plotting a decision tree\n",
    "fig = plt.figure(figsize=(25,20))\n",
    "plot = tree.plot_tree(model,\n",
    "                   feature_names=feature_X,  \n",
    "                   class_names=y_train,\n",
    "                   filled=True)"
   ]
  },
  {
   "cell_type": "markdown",
   "id": "fe82ce9e",
   "metadata": {},
   "source": [
    "## Reporting the best performing model :"
   ]
  },
  {
   "cell_type": "markdown",
   "id": "ede2c3da",
   "metadata": {},
   "source": [
    "For each competing model we used the model which has the minimum cross validation score for the prediction and finding the \n",
    "error from the test data."
   ]
  },
  {
   "cell_type": "code",
   "execution_count": 49,
   "id": "94f2afbb",
   "metadata": {},
   "outputs": [
    {
     "name": "stdout",
     "output_type": "stream",
     "text": [
      "Minimun CV score for KNN Algorithm :  29.932993839261666\n",
      "Minimun CV score for Linear Regression :  30.408599827050505\n",
      "Minimun CV score for Decision Tree :  31.146997061925084\n"
     ]
    }
   ],
   "source": [
    "#Getting the minimum CV scores for each model \n",
    "print('Minimun CV score for KNN Algorithm : ', np.min(np.abs(cv_scores_knn)))\n",
    "print('Minimun CV score for Linear Regression : ', cv_score_regr)\n",
    "print('Minimun CV score for Decision Tree : ', np.min(np.abs(cv_scores_dt)))"
   ]
  },
  {
   "cell_type": "code",
   "execution_count": 50,
   "id": "eacce883",
   "metadata": {},
   "outputs": [
    {
     "name": "stdout",
     "output_type": "stream",
     "text": [
      "Root Mean Square error for KNN Algorithm with best fit :  4.001215760331699\n",
      "Root Mean Square error for Linear Regression with best fit :  4.137032451968018\n",
      "Root Mean Square error for Decision Tree with best fit :  3.9102539550483186\n"
     ]
    }
   ],
   "source": [
    "#getting the error metrics for the best fit model\n",
    "print('Root Mean Square error for KNN Algorithm with best fit : ', RMSE_knn)\n",
    "print('Root Mean Square error for Linear Regression with best fit : ', RMSE_regr)\n",
    "print('Root Mean Square error for Decision Tree with best fit : ', RMSE_dt)"
   ]
  },
  {
   "cell_type": "code",
   "execution_count": 51,
   "id": "c5d27e4b",
   "metadata": {},
   "outputs": [
    {
     "name": "stdout",
     "output_type": "stream",
     "text": [
      "Mean Square error for KNN Algorithm with best fit :  16.009727560726777\n",
      "Mean Square error for Linear Regression with best fit :  17.11503750863651\n",
      "Mean Square error for Decision Tree with best fit :  15.290085992971019\n"
     ]
    }
   ],
   "source": [
    "print('Mean Square error for KNN Algorithm with best fit : ', MSE_knn)\n",
    "print('Mean Square error for Linear Regression with best fit : ', MSE_regr)\n",
    "print('Mean Square error for Decision Tree with best fit : ', MSE_dt)"
   ]
  },
  {
   "cell_type": "code",
   "execution_count": 52,
   "id": "219d6e37",
   "metadata": {},
   "outputs": [
    {
     "name": "stdout",
     "output_type": "stream",
     "text": [
      "Mean Absolute error for KNN Algorithm with best fit :  2.9165755919854273\n",
      "Mean Absolute error for Linear Regression with best fit :  3.1810011349672362\n",
      "Mean Absolute error for Decision Tree with best fit :  2.7848047284779813\n"
     ]
    }
   ],
   "source": [
    "print('Mean Absolute error for KNN Algorithm with best fit : ', MAE_knn)\n",
    "print('Mean Absolute error for Linear Regression with best fit : ', MAE_regr)\n",
    "print('Mean Absolute error for Decision Tree with best fit : ', MAE_dt)"
   ]
  },
  {
   "cell_type": "markdown",
   "id": "68505cff",
   "metadata": {},
   "source": [
    "Based on the error metrics calculated and the cross fold validation scores for the each model with the best fit parameters we can conclude that the KNN model is the best to predict the target as it has the lowest cross validation score.\n",
    "\n",
    "Note : The error metric used here in cross fold validation to get the optimal value of k i.e. neighbors is mean square error. If we use a differnt error metric such as mean absolute error or root mean square error, we get a differnet optimal value of k. In each case we find that the KNN model is the best performing model."
   ]
  },
  {
   "cell_type": "markdown",
   "id": "a5bc0eeb",
   "metadata": {},
   "source": [
    "Below is a summary of the error metrics calculated and the cross validation score for the best fit  KNN model with the value of k neighbors = 63 and the scoring metric is mean squared error.\n"
   ]
  },
  {
   "cell_type": "code",
   "execution_count": 53,
   "id": "1237225d",
   "metadata": {},
   "outputs": [
    {
     "name": "stdout",
     "output_type": "stream",
     "text": [
      "Minimun CV score for KNN Algorithm (k = 63):  29.932993839261666\n",
      "Root Mean Square error for KNN Algorithm with best fit :  4.001215760331699\n",
      "Mean Square error for KNN Algorithm with best fit :  16.009727560726777\n",
      "Mean Absolute error for KNN Algorithm with best fit :  2.9165755919854273\n"
     ]
    }
   ],
   "source": [
    "print('Minimun CV score for KNN Algorithm (k = 63): ', np.min(np.abs(cv_scores_knn)))\n",
    "print('Root Mean Square error for KNN Algorithm with best fit : ', RMSE_knn)\n",
    "print('Mean Square error for KNN Algorithm with best fit : ', MSE_knn)\n",
    "print('Mean Absolute error for KNN Algorithm with best fit : ', MAE_knn)"
   ]
  },
  {
   "cell_type": "code",
   "execution_count": null,
   "id": "937a2068",
   "metadata": {},
   "outputs": [],
   "source": []
  },
  {
   "cell_type": "code",
   "execution_count": null,
   "id": "124025e0",
   "metadata": {},
   "outputs": [],
   "source": []
  },
  {
   "cell_type": "code",
   "execution_count": null,
   "id": "a4388ee5",
   "metadata": {},
   "outputs": [],
   "source": []
  }
 ],
 "metadata": {
  "kernelspec": {
   "display_name": "Python 3",
   "language": "python",
   "name": "python3"
  },
  "language_info": {
   "codemirror_mode": {
    "name": "ipython",
    "version": 3
   },
   "file_extension": ".py",
   "mimetype": "text/x-python",
   "name": "python",
   "nbconvert_exporter": "python",
   "pygments_lexer": "ipython3",
   "version": "3.8.8"
  }
 },
 "nbformat": 4,
 "nbformat_minor": 5
}
